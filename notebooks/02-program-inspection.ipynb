{
 "cells": [
  {
   "cell_type": "markdown",
   "id": "dbbe25f5-8adb-4f11-8db3-79232fdb72fe",
   "metadata": {},
   "source": [
    "# Race Program"
   ]
  },
  {
   "cell_type": "code",
   "execution_count": 46,
   "id": "f11f7f4b-3986-4aaf-bace-8e58367b246f",
   "metadata": {},
   "outputs": [],
   "source": [
    "import pandas as pd\n",
    "import json\n",
    "\n",
    "from bs4 import BeautifulSoup\n",
    "import re\n",
    "import copy \n",
    "\n",
    "from pathlib import Path\n",
    "\n",
    "ROOT = Path('../')\n",
    "\n",
    "filename = 'TESSERE scp 2025.pdf'"
   ]
  },
  {
   "cell_type": "code",
   "execution_count": 23,
   "id": "1a1ab813-4502-49ce-bf6a-82efa9511c16",
   "metadata": {},
   "outputs": [],
   "source": [
    "filename = 'FIC - Programma Serie.html'\n",
    "\n",
    "with open(ROOT / 'data/external' / filename, \"r\") as f:\n",
    "    soup = BeautifulSoup(f, 'html.parser')\n",
    "\n",
    "with open(ROOT / 'data/athletes/athletes.json') as f:\n",
    "    athletes_data = json.load(f)"
   ]
  },
  {
   "cell_type": "code",
   "execution_count": 24,
   "id": "27a058f6-c109-40cf-b13f-aafd22b17f31",
   "metadata": {},
   "outputs": [
    {
     "data": {
      "text/plain": [
       "['Amato Federico',\n",
       " 'Amato Maurizio',\n",
       " 'Arnone Ciro',\n",
       " 'Benvenuti Chiara',\n",
       " 'Bosco Sisto',\n",
       " 'Bruno Andrea',\n",
       " 'Capritti Maurizio',\n",
       " 'Cassina Giorgia',\n",
       " 'Castiglione Andrea',\n",
       " 'Cattarinich Irma',\n",
       " 'Ciaravella Domenico',\n",
       " 'Cincimino Giuseppe',\n",
       " 'Civiletto Angelo Maria',\n",
       " \"D'Amico Angelo\",\n",
       " 'De Caro Davide',\n",
       " 'Fedele Monica',\n",
       " 'Francaviglia Luca',\n",
       " 'Franchina Bruno',\n",
       " 'Giambanco Benedetto',\n",
       " 'Li Greci Riccardo',\n",
       " 'Macaluso Antonino',\n",
       " \"Magazzu' Stefan\",\n",
       " 'Maniscalco Davide',\n",
       " 'Marino Alberto',\n",
       " 'Marino Salvatore',\n",
       " 'Martucci Francesco Jan',\n",
       " 'Mascari Giuseppe',\n",
       " 'Miraglia Luca',\n",
       " 'Munteanu Federico Andrei',\n",
       " 'Oliva Salvatore',\n",
       " 'Palumbo Lorenzo',\n",
       " 'Puglia Pietro',\n",
       " 'Rappa Sergio',\n",
       " 'Sanseverino Giorgio',\n",
       " 'Scalici Francesco Paolo',\n",
       " 'Scarpello Martina',\n",
       " 'Sciabarrà Flavio',\n",
       " 'Terranova Chiaraluce',\n",
       " 'Vento Marcello',\n",
       " 'Zappulla Bianca',\n",
       " 'Zerilli Laura',\n",
       " 'Zerilli Mario Pietro']"
      ]
     },
     "execution_count": 24,
     "metadata": {},
     "output_type": "execute_result"
    }
   ],
   "source": [
    "club_athletes = [athlete['name'] for _, athlete in athletes_data.items()]\n",
    "club_athletes"
   ]
  },
  {
   "cell_type": "code",
   "execution_count": 62,
   "id": "6bd8f7f1-179b-4b65-babf-bef4a9db23d6",
   "metadata": {},
   "outputs": [
    {
     "data": {
      "text/plain": [
       "[('1', 'PALERMO SC', ['Marino Salvatore', 'Puglia Pietro']),\n",
       " ('2', 'PELOROROW', ['Sorrenti Domenico', 'Bardetta Gianluca']),\n",
       " ('3', 'ICHNUSA CA', ['Demuro Francesco', 'Virdis Yaroslav']),\n",
       " ('4', 'TEVERE REMO', ['Carfagni Filippo', \"Massai Niccolo'\"]),\n",
       " ('5', 'TELIMAR', ['Armetta Francesco', 'Sardo Mattia']),\n",
       " ('6', 'PALERMO SC', ['Zerilli Mario Pietro', 'Francaviglia Luca'])]"
      ]
     },
     "execution_count": 62,
     "metadata": {},
     "output_type": "execute_result"
    }
   ],
   "source": [
    "def extract_race_info(table):\n",
    "    data = table.find('td')\n",
    "    fonts = data.find_all('font')\n",
    "    race_text = fonts[3].find_all('b')[1].text\n",
    "    race_time = fonts[3].find_all('b')[0].text.strip(\" \\xa0\")\n",
    "    race_info = dict(\n",
    "        race_number = fonts[1].text.strip(),\n",
    "        race_day = fonts[2].find('b').text.strip(\" \\xa0\"),\n",
    "        race_time = race_time,  # Optionally format this\n",
    "        race_category = race_text.split(\"\\xa0\")[0].strip(),\n",
    "        race_desc = race_text.split(\"\\xa0\")[1].strip(),\n",
    "    )\n",
    "    return race_info \n",
    "\n",
    "\n",
    "def extract_race_criterion(table, race_type):\n",
    "    criterion = table.find('td', class_='t0')\n",
    "    if criterion is not None:\n",
    "        criterion = criterion.text.strip()\n",
    "    else:\n",
    "        if race_type == \"Finale B\":\n",
    "            criterion = \"Primo Medaglia di Bronzo, Secondo Quarto Classificato\"\n",
    "        if race_type == \"Finale A\":\n",
    "            criterion = \"Primo Medaglia d'Oro, Secondo Medaglia d'Argento\"\n",
    "    return criterion\n",
    "\n",
    "\n",
    "def extract_race_crews(table):\n",
    "    crews = table.find_all('td', class_='t1')\n",
    "    crews_list = []\n",
    "    for crew in crews:\n",
    "        crew = crew.find('font')\n",
    "        crew_number = crew.find('b').text.strip()\n",
    "        if len(crew.find_all('font')) == 0:\n",
    "            crews_list.append((crew_number, '-', '-'))\n",
    "            continue\n",
    "            \n",
    "        club = crew.find_all('font')[0].text\n",
    "        club = re.sub(r'\\(\\d\\)', r'', club)\n",
    "        athletes = []\n",
    "        for a in crew.find_all('font')[1].stripped_strings:\n",
    "            if a[0] not in ['(', '.']:\n",
    "                athletes.append(re.sub(r'\\d', '', a).strip())\n",
    "        crews_list.append((crew_number, club, athletes))\n",
    "    return crews_list\n",
    "    \n",
    "\n",
    "div = soup.find_all('div')[0]\n",
    "tables = div.find_all('table')[-2:]\n",
    "race_infos = extract_race_info(tables[0])\n",
    "races = tables[1]\n",
    "race_type = race_infos['race_desc']\n",
    "race_infos[\"criterion\"] = extract_race_criterion(races, race_type)\n",
    "extract_race_crews(races)"
   ]
  },
  {
   "cell_type": "code",
   "execution_count": 72,
   "id": "b0410895-a253-4da3-8060-ff498e4659f3",
   "metadata": {},
   "outputs": [
    {
     "data": {
      "text/plain": [
       "['Regata', 'del', '28/03/2025', '30/03/2025']"
      ]
     },
     "execution_count": 72,
     "metadata": {},
     "output_type": "execute_result"
    }
   ],
   "source": [
    "soup.find_all('td', class_='label10')[1].find('b').text.replace(' - ', ' ').split()"
   ]
  },
  {
   "cell_type": "code",
   "execution_count": 78,
   "id": "80d17d6b-97e3-402d-953b-5376956bd5ea",
   "metadata": {},
   "outputs": [
    {
     "name": "stdout",
     "output_type": "stream",
     "text": [
      "{'28': Timestamp('2025-03-28 00:00:00'), '29': Timestamp('2025-03-29 00:00:00'), '30': Timestamp('2025-03-30 00:00:00')}\n"
     ]
    },
    {
     "data": {
      "text/plain": [
       "{'race_number': '100',\n",
       " 'race_day': '30',\n",
       " 'race_time': '08:15',\n",
       " 'race_category': 'DUE COASTAL ROWING Senior Beach 17-99 Mix',\n",
       " 'race_desc': 'Qualificazione 4',\n",
       " 'criterion': 'Il Primo in semifinale',\n",
       " 'crews': [('1', 'PELOROROW', ['Fugazzotto Pietro', 'Lo Giudice Irene']),\n",
       "  ('2', 'MONDELLO', ['Conti Alberto', 'Morello Costanza'])]}"
      ]
     },
     "execution_count": 78,
     "metadata": {},
     "output_type": "execute_result"
    }
   ],
   "source": [
    "race_program = []\n",
    "race_dates = soup.find_all('td', class_='label10')[1].find('b').text.replace(' - ', ' ')\n",
    "race_dates = pd.date_range(*race_dates.split()[-2:])\n",
    "race_days = {str(date.day): date for date in race_dates}\n",
    "print(race_days)\n",
    "for div in soup.find_all('div'):\n",
    "    tables = div.find_all('table')[-2:]\n",
    "    if not len(tables):\n",
    "        continue\n",
    "    race_infos = extract_race_info(tables[0])\n",
    "    races = tables[1]\n",
    "    race_type = race_infos['race_desc']\n",
    "    race_infos[\"criterion\"] = extract_race_criterion(races, race_type)\n",
    "    race_infos['crews'] = extract_race_crews(races)\n",
    "\n",
    "    race_program.append(race_infos)\n",
    "    \n",
    "race_program[-100]"
   ]
  },
  {
   "cell_type": "code",
   "execution_count": 64,
   "id": "2645714f-8b4f-4f8c-9a73-f045354149c4",
   "metadata": {},
   "outputs": [],
   "source": [
    "club_races = []\n",
    "for race in race_program:\n",
    "    for lane, club, crew_members in race['crews']:\n",
    "        club_athletes_in_crew = [a for a in crew_members if a in club_athletes]\n",
    "\n",
    "        if club_athletes_in_crew:\n",
    "            club_race = copy.copy(race)\n",
    "            # Reorder crew members to put club athletes first\n",
    "            ordered_crew = club_athletes_in_crew + [member for member in crew_members if member not in club_athletes]\n",
    "                \n",
    "            # Remove all the crews in the race and keep only the club crew\n",
    "            del club_race['crews']\n",
    "            club_race['crew'] = crew_members\n",
    "            club_race['crew_lane'] = lane\n",
    "            club_race['club'] = club\n",
    "            club_races.append(club_race)"
   ]
  },
  {
   "cell_type": "code",
   "execution_count": 65,
   "id": "37da68cd-9cff-478d-8e17-a895f2497913",
   "metadata": {},
   "outputs": [
    {
     "data": {
      "text/plain": [
       "{'race_number': '162',\n",
       " 'race_day': '30',\n",
       " 'race_time': '11:55',\n",
       " 'race_category': 'QUATTRO COASTAL C4x+ Senior Beach 17-99 Mix',\n",
       " 'race_desc': 'Finale B',\n",
       " 'criterion': 'Primo Medaglia di Bronzo, Secondo Quarto Classificato',\n",
       " 'crew': ['Amato Federico',\n",
       "  'Annella Cristina',\n",
       "  'Conti Alberto',\n",
       "  'Morello Costanza',\n",
       "  'Leo Riccardo -Tim.'],\n",
       " 'crew_lane': '1',\n",
       " 'club': 'MONDELLO(1 Misto)'}"
      ]
     },
     "execution_count": 65,
     "metadata": {},
     "output_type": "execute_result"
    }
   ],
   "source": [
    "club_races[-1]"
   ]
  },
  {
   "cell_type": "code",
   "execution_count": 66,
   "id": "91b4c530-c909-4edd-add2-5d72aaf23e0e",
   "metadata": {},
   "outputs": [
    {
     "data": {
      "text/plain": [
       "{'race_number': '1',\n",
       " 'race_day': '28',\n",
       " 'race_time': '13:00',\n",
       " 'race_category': 'DUE COASTAL ROWING Universitari M',\n",
       " 'race_desc': \"Time Trial R1 - Start every 1' minute\",\n",
       " 'criterion': 'Primi quattro tempi alle qualificazioni',\n",
       " 'crews': [('1', 'PALERMO SC', ['Marino Salvatore', 'Puglia Pietro']),\n",
       "  ('2', 'PELOROROW', ['Sorrenti Domenico', 'Bardetta Gianluca']),\n",
       "  ('3', 'ICHNUSA CA', ['Demuro Francesco', 'Virdis Yaroslav']),\n",
       "  ('4', 'TEVERE REMO', ['Carfagni Filippo', \"Massai Niccolo'\"]),\n",
       "  ('5', 'TELIMAR', ['Armetta Francesco', 'Sardo Mattia']),\n",
       "  ('6', 'PALERMO SC', ['Zerilli Mario Pietro', 'Francaviglia Luca'])]}"
      ]
     },
     "execution_count": 66,
     "metadata": {},
     "output_type": "execute_result"
    }
   ],
   "source": [
    "race_program[0]"
   ]
  },
  {
   "cell_type": "code",
   "execution_count": null,
   "id": "1ebb8590-e6af-420d-9085-7dfb4d44c37b",
   "metadata": {},
   "outputs": [],
   "source": []
  }
 ],
 "metadata": {
  "kernelspec": {
   "display_name": "Python 3 (ipykernel)",
   "language": "python",
   "name": "python3"
  },
  "language_info": {
   "codemirror_mode": {
    "name": "ipython",
    "version": 3
   },
   "file_extension": ".py",
   "mimetype": "text/x-python",
   "name": "python",
   "nbconvert_exporter": "python",
   "pygments_lexer": "ipython3",
   "version": "3.12.3"
  }
 },
 "nbformat": 4,
 "nbformat_minor": 5
}
